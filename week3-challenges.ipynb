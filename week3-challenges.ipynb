{
 "cells": [
  {
   "cell_type": "markdown",
   "metadata": {},
   "source": [
    "# Python For Data Engineering part 2 – the TD"
   ]
  },
  {
   "cell_type": "markdown",
   "metadata": {},
   "source": [
    "## The CSV analysis\n",
    "\n",
    "download the mobike csv usign baidu pan\n",
    "\n",
    "链接: https://pan.baidu.com/s/1aszR_8xX9cvniCeGO9OwaA  \n",
    "\n",
    "密码: kak5\n",
    "--来自百度网盘超级会员V3的分享\n",
    "\n",
    "Using the mobike dataset, read the csv and answer the following questions:\n",
    "\n",
    "1. Which day of the week see the most events?\n",
    "2. Which day of the month see the most events? \n",
    "3. Which bike has been used the most?\n",
    "4. How many bike does a user use in average?"
   ]
  },
  {
   "cell_type": "code",
   "execution_count": 2,
   "metadata": {},
   "outputs": [],
   "source": [
    "import csv\n",
    "import datetime\n",
    "from collections import Counter\n",
    "weekdays = ['Monday','Tuesday','Wednesday','Thursday','Friday','Saturday','Sunday']\n",
    "with open('./data/UTSEUS-MOBIKE-shanghai_full.csv','r') as csvfile:\n",
    "    csvreader =  csv.DictReader(csvfile)\n",
    "    #next(csvreader)\n",
    "    data =[r['start_time'] for r in csvreader]"
   ]
  },
  {
   "cell_type": "code",
   "execution_count": 7,
   "metadata": {},
   "outputs": [
    {
     "data": {
      "text/plain": [
       "[(3, 177561)]"
      ]
     },
     "execution_count": 7,
     "metadata": {},
     "output_type": "execute_result"
    }
   ],
   "source": [
    "days =[datetime.datetime.fromisoformat(d).isoweekday() for d in data]\n",
    "Counter(days).most_common(1)"
   ]
  },
  {
   "cell_type": "code",
   "execution_count": 8,
   "metadata": {},
   "outputs": [
    {
     "data": {
      "text/plain": [
       "'Wednesday is the day (177561)'"
      ]
     },
     "execution_count": 8,
     "metadata": {},
     "output_type": "execute_result"
    }
   ],
   "source": [
    "result_day = weekdays[Counter(days).most_common(1)[0][0] -1]\n",
    "f'{result_day} is the day ({Counter(days).most_common(1)[0][1]})'"
   ]
  },
  {
   "cell_type": "code",
   "execution_count": 13,
   "metadata": {},
   "outputs": [
    {
     "data": {
      "text/plain": [
       "'30 is the day (54936)'"
      ]
     },
     "execution_count": 13,
     "metadata": {},
     "output_type": "execute_result"
    }
   ],
   "source": [
    "days =[datetime.datetime.fromisoformat(d).day for d in data]\n",
    "result_day =Counter(days).most_common(1)[0][0]-1\n",
    "f'{result_day} is the day ({Counter(days).most_common(1)[0][1]})'"
   ]
  },
  {
   "cell_type": "code",
   "execution_count": 9,
   "metadata": {},
   "outputs": [],
   "source": [
    "with open('./data/UTSEUS-MOBIKE-shanghai_full.csv','r') as csvfile:\n",
    "    csvreader =  csv.DictReader(csvfile)\n",
    "    bike = [r['bikeid'] for r in csvreader]"
   ]
  },
  {
   "cell_type": "code",
   "execution_count": 10,
   "metadata": {},
   "outputs": [],
   "source": [
    "most_bike = Counter(bike).most_common(1)"
   ]
  },
  {
   "cell_type": "code",
   "execution_count": 17,
   "metadata": {},
   "outputs": [
    {
     "data": {
      "text/plain": [
       "'bikeid:32253 is the bike which has been used the most(98) '"
      ]
     },
     "execution_count": 17,
     "metadata": {},
     "output_type": "execute_result"
    }
   ],
   "source": [
    "f'bikeid:{most_bike[0][0]} is the bike which has been used the most({most_bike[0][1]}) '"
   ]
  },
  {
   "cell_type": "code",
   "execution_count": 52,
   "metadata": {},
   "outputs": [],
   "source": [
    "count_bikes_sum = sum(Counter(bike).values())"
   ]
  },
  {
   "cell_type": "code",
   "execution_count": 55,
   "metadata": {},
   "outputs": [
    {
     "data": {
      "text/plain": [
       "1023603"
      ]
     },
     "execution_count": 55,
     "metadata": {},
     "output_type": "execute_result"
    }
   ],
   "source": [
    "count_bikes_sum"
   ]
  },
  {
   "cell_type": "code",
   "execution_count": 50,
   "metadata": {},
   "outputs": [],
   "source": [
    "count_users_sum = sum(Counter(count_users).values())"
   ]
  },
  {
   "cell_type": "code",
   "execution_count": 64,
   "metadata": {},
   "outputs": [],
   "source": [
    "count_users_sum = len(Counter(count_users))"
   ]
  },
  {
   "cell_type": "code",
   "execution_count": 65,
   "metadata": {},
   "outputs": [
    {
     "data": {
      "text/plain": [
       "'a user use 57.869911804613295 bikes in average'"
      ]
     },
     "execution_count": 65,
     "metadata": {},
     "output_type": "execute_result"
    }
   ],
   "source": [
    "f'a user use {count_bikes_sum/count_users_sum} bikes in average'"
   ]
  }
 ],
 "metadata": {
  "kernelspec": {
   "display_name": "Python 3",
   "language": "python",
   "name": "python3"
  },
  "language_info": {
   "codemirror_mode": {
    "name": "ipython",
    "version": 3
   },
   "file_extension": ".py",
   "mimetype": "text/x-python",
   "name": "python",
   "nbconvert_exporter": "python",
   "pygments_lexer": "ipython3",
   "version": "3.7.10"
  }
 },
 "nbformat": 4,
 "nbformat_minor": 4
}
