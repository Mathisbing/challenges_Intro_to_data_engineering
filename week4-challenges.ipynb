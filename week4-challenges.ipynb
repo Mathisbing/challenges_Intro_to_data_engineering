{
 "cells": [
  {
   "cell_type": "markdown",
   "metadata": {},
   "source": [
    "# SQL, a primer\n",
    "\n",
    "## ERD Diagram\n",
    "\n",
    "draw a ER diagram of the database and paste the screen shot here. \n",
    "\n",
    "you can use [this online editor for example](https://online.visual-paradigm.com/diagrams/solutions/free-erd-editor-online/)\n",
    "\n",
    "## Query the database\n",
    "\n",
    "### Simple Query\n",
    "\n",
    "🤔 display the records of the table weibo_status (fetchall)"
   ]
  },
  {
   "cell_type": "code",
   "execution_count": 1,
   "metadata": {},
   "outputs": [],
   "source": [
    "import sqlite3"
   ]
  },
  {
   "cell_type": "code",
   "execution_count": 2,
   "metadata": {},
   "outputs": [],
   "source": [
    "conn = sqlite3.connect('data/UTSEUS-shanghai-weibo-2012.db')\n",
    "c = conn.cursor()"
   ]
  },
  {
   "cell_type": "code",
   "execution_count": null,
   "metadata": {},
   "outputs": [],
   "source": [
    "query = '''\n",
    "SELECT * \n",
    "FROM weibo_status\n",
    "'''\n",
    "c.execute(query)\n",
    "rows = c.fetchall()\n",
    "rows"
   ]
  },
  {
   "cell_type": "markdown",
   "metadata": {},
   "source": [
    "🤔 display the first 5 records of the table weibo_status (fetchone, limit)"
   ]
  },
  {
   "cell_type": "code",
   "execution_count": 4,
   "metadata": {},
   "outputs": [
    {
     "data": {
      "text/plain": [
       "5"
      ]
     },
     "execution_count": 4,
     "metadata": {},
     "output_type": "execute_result"
    }
   ],
   "source": [
    "query = '''\n",
    "SELECT * \n",
    "FROM weibo_status\n",
    "LIMIT 5\n",
    "'''\n",
    "c.execute(query)\n",
    "rows = c.fetchall()\n",
    "len(rows)"
   ]
  },
  {
   "cell_type": "markdown",
   "metadata": {},
   "source": [
    "### query with projection\n",
    "\n",
    "🤔 display the columns with the status text and the date from weibo_status "
   ]
  },
  {
   "cell_type": "code",
   "execution_count": 7,
   "metadata": {},
   "outputs": [
    {
     "data": {
      "text/plain": [
       "[('吃火锅啦 我在#洪长兴羊肉馆(云南南路店)# http://t.cn/zOeOmRM', '2012-11-18 19:24:56+08')]"
      ]
     },
     "execution_count": 7,
     "metadata": {},
     "output_type": "execute_result"
    }
   ],
   "source": [
    "query = '''\n",
    "SELECT status,created_at\n",
    "FROM weibo_status\n",
    "LIMIT 1\n",
    "'''\n",
    "c.execute(query)\n",
    "rows = c.fetchall()\n",
    "rows"
   ]
  },
  {
   "cell_type": "markdown",
   "metadata": {},
   "source": [
    "🤔 display the description and gender from the table weibo_user __*renamed into `wu`*__"
   ]
  },
  {
   "cell_type": "code",
   "execution_count": 9,
   "metadata": {},
   "outputs": [
    {
     "data": {
      "text/plain": [
       "[('f', '是非浑不分，何堪辨世事')]"
      ]
     },
     "execution_count": 9,
     "metadata": {},
     "output_type": "execute_result"
    }
   ],
   "source": [
    "query = '''\n",
    "SELECT gender,description \n",
    "FROM weibo_user wu\n",
    "LIMIT 1\n",
    "'''\n",
    "c.execute(query)\n",
    "rows = c.fetchall()\n",
    "rows"
   ]
  },
  {
   "cell_type": "markdown",
   "metadata": {},
   "source": [
    "🤔 display only the description from the table weibo_user but __rename the column `desc` instead of `description`__"
   ]
  },
  {
   "cell_type": "code",
   "execution_count": 10,
   "metadata": {},
   "outputs": [
    {
     "data": {
      "text/plain": [
       "[('是非浑不分，何堪辨世事',)]"
      ]
     },
     "execution_count": 10,
     "metadata": {},
     "output_type": "execute_result"
    }
   ],
   "source": [
    "query = '''\n",
    "SELECT description as desc\n",
    "FROM weibo_user\n",
    "LIMIT 1\n",
    "'''\n",
    "c.execute(query)\n",
    "rows = c.fetchall()\n",
    "rows"
   ]
  },
  {
   "cell_type": "markdown",
   "metadata": {},
   "source": [
    "### query with selection\n",
    "\n",
    "🤔 Select all the points of interests (POI) in jufengyuan road from the table weibo_location"
   ]
  },
  {
   "cell_type": "code",
   "execution_count": 11,
   "metadata": {},
   "outputs": [
    {
     "data": {
      "text/plain": [
       "[(365,\n",
       "  '宝寿司(上大店)',\n",
       "  31.315066921,\n",
       "  121.38518595,\n",
       "  'B2094757D66DABF9459A',\n",
       "  '上海市聚丰园路',\n",
       "  '上海市,宝山区,聚丰园路',\n",
       "  '日本料理',\n",
       "  'Japanese',\n",
       "  '餐饮',\n",
       "  95,\n",
       "  5,\n",
       "  7,\n",
       "  5)]"
      ]
     },
     "execution_count": 11,
     "metadata": {},
     "output_type": "execute_result"
    }
   ],
   "source": [
    "query = '''\n",
    "SELECT *\n",
    "FROM weibo_location wl\n",
    "WHERE street LIKE '%聚丰园路%'\n",
    "LIMIT 1\n",
    "'''\n",
    "c.execute(query)\n",
    "rows = c.fetchall()\n",
    "rows"
   ]
  },
  {
   "cell_type": "code",
   "execution_count": 12,
   "metadata": {},
   "outputs": [
    {
     "data": {
      "text/plain": [
       "[(365,\n",
       "  '宝寿司(上大店)',\n",
       "  31.315066921,\n",
       "  121.38518595,\n",
       "  'B2094757D66DABF9459A',\n",
       "  '上海市聚丰园路',\n",
       "  '上海市,宝山区,聚丰园路',\n",
       "  '日本料理',\n",
       "  'Japanese',\n",
       "  '餐饮',\n",
       "  95,\n",
       "  5,\n",
       "  7,\n",
       "  5)]"
      ]
     },
     "execution_count": 12,
     "metadata": {},
     "output_type": "execute_result"
    }
   ],
   "source": [
    "query = '''\n",
    "SELECT *\n",
    "FROM weibo_location wl\n",
    "WHERE street = \"上海市聚丰园路\"\n",
    "LIMIT 1\n",
    "'''\n",
    "c.execute(query)\n",
    "rows = c.fetchall()\n",
    "rows"
   ]
  },
  {
   "cell_type": "markdown",
   "metadata": {},
   "source": [
    "🤔 Select all the shops around century park: bounding box __top left__ `121.5276, 31.2256` and __bottom right__ `121.5705, 31.2097`"
   ]
  },
  {
   "cell_type": "code",
   "execution_count": 21,
   "metadata": {},
   "outputs": [
    {
     "data": {
      "text/plain": [
       "674"
      ]
     },
     "execution_count": 21,
     "metadata": {},
     "output_type": "execute_result"
    }
   ],
   "source": [
    "query = '''\n",
    "SELECT title\n",
    "FROM weibo_location \n",
    "WHERE longitude>=121.5276 and longitude<=121.5705 and latitude>=31.2097 and latitude <=31.2256 \n",
    "'''\n",
    "c.execute(query)\n",
    "rows = c.fetchall()\n",
    "len(rows)"
   ]
  },
  {
   "cell_type": "markdown",
   "metadata": {},
   "source": [
    "🤔 Select all the message where the text contains `happy` "
   ]
  },
  {
   "cell_type": "code",
   "execution_count": 22,
   "metadata": {},
   "outputs": [
    {
     "data": {
      "text/plain": [
       "13421"
      ]
     },
     "execution_count": 22,
     "metadata": {},
     "output_type": "execute_result"
    }
   ],
   "source": [
    "query = '''\n",
    "SELECT status\n",
    "FROM weibo_status\n",
    "WHERE status LIKE '%happy%' or status LIKE '%快乐%'\n",
    "'''\n",
    "c.execute(query)\n",
    "rows = c.fetchall()\n",
    "len(rows)"
   ]
  },
  {
   "cell_type": "markdown",
   "metadata": {},
   "source": [
    "🤔 Select all the message where the text contains `happy` or `sad` "
   ]
  },
  {
   "cell_type": "code",
   "execution_count": null,
   "metadata": {},
   "outputs": [],
   "source": [
    "query = '''\n",
    "\n",
    "'''\n",
    "c.execute(query)\n",
    "rows = c.fetchall()\n",
    "rows"
   ]
  },
  {
   "cell_type": "markdown",
   "metadata": {},
   "source": [
    "### query with counting\n",
    "\n",
    "🤔 what is the most popular word in the message, `happy` or `sad`?"
   ]
  },
  {
   "cell_type": "code",
   "execution_count": null,
   "metadata": {},
   "outputs": [],
   "source": [
    "query = '''\n",
    "SELECT status\n",
    "FROM weibo_status\n",
    "WHERE COUNT()\n",
    "'''\n",
    "c.execute(query)\n",
    "rows = c.fetchall()\n",
    "rows"
   ]
  },
  {
   "cell_type": "markdown",
   "metadata": {},
   "source": [
    "### query with sorting\n",
    "\n",
    "🤔 show the top 10 coffee place according to their distinct user checkin count "
   ]
  },
  {
   "cell_type": "code",
   "execution_count": 31,
   "metadata": {},
   "outputs": [
    {
     "data": {
      "text/plain": [
       "[('星光公益站之陈坤（行走的力量）', 251752),\n",
       " ('广州白云机场', 71858),\n",
       " ('2012登船点', 69726),\n",
       " ('2013跨年演唱会聚集地', 42831),\n",
       " ('首都机场T3航站楼', 33592),\n",
       " ('虹桥火车站', 26441),\n",
       " ('虹桥机场2号航站楼(出发)', 25014),\n",
       " ('昆明长水机场', 22319),\n",
       " ('香港國際機場(出發)', 21773),\n",
       " ('虹桥二号航站楼', 21184)]"
      ]
     },
     "execution_count": 31,
     "metadata": {},
     "output_type": "execute_result"
    }
   ],
   "source": [
    "query = '''\n",
    "SELECT title,distinct_user_checkin_count as dc\n",
    "FROM weibo_location\n",
    "WHERE category_en_name ='cafe'\n",
    "ORDER BY dc DESC\n",
    "limit 10 \n",
    "'''\n",
    "c.execute(query)\n",
    "rows = c.fetchall()\n",
    "rows"
   ]
  },
  {
   "cell_type": "markdown",
   "metadata": {},
   "source": [
    "### query with grouping\n",
    "🤔 list the locations grouped by their english category name (remove the null and unknown categories)"
   ]
  },
  {
   "cell_type": "code",
   "execution_count": 40,
   "metadata": {},
   "outputs": [
    {
     "data": {
      "text/plain": [
       "[('ATM',),\n",
       " ('Class IT company',),\n",
       " ('KTV',),\n",
       " ('General location marker',),\n",
       " ('General Attractions',),\n",
       " ('Three star hotels',),\n",
       " ('Three hospitals',),\n",
       " ('Shanghai cuisine',),\n",
       " ('Stores',),\n",
       " ('Dongbei',)]"
      ]
     },
     "execution_count": 40,
     "metadata": {},
     "output_type": "execute_result"
    }
   ],
   "source": [
    "query = '''\n",
    "SELECT category_en_name\n",
    "FROM weibo_location\n",
    "WHERE category_en_name not in (\"NULL\",\"Unknown Classification\")\n",
    "GROUP BY category_name\n",
    "limit 10 \n",
    "'''\n",
    "c.execute(query)\n",
    "rows = c.fetchall()\n",
    "rows"
   ]
  },
  {
   "cell_type": "markdown",
   "metadata": {},
   "source": [
    "🤔 list the locations english category names and how many location each category has (remove the null and unknown categories)"
   ]
  },
  {
   "cell_type": "code",
   "execution_count": 50,
   "metadata": {},
   "outputs": [
    {
     "data": {
      "text/plain": [
       "[('ATM', 30),\n",
       " ('Activity', 8),\n",
       " ('Adult Education', 46),\n",
       " ('Airport', 183),\n",
       " ('American flavor', 8),\n",
       " ('Anhui dishes', 3),\n",
       " ('Antiques and paintings shop', 7),\n",
       " ('Aquarium', 2),\n",
       " ('Archives', 2),\n",
       " ('Art gallery', 17)]"
      ]
     },
     "execution_count": 50,
     "metadata": {},
     "output_type": "execute_result"
    }
   ],
   "source": [
    "query = '''\n",
    "SELECT category_en_name,COUNT(*)\n",
    "FROM weibo_location\n",
    "WHERE category_en_name not in (\"NULL\",\"Unknown Classification\")\n",
    "GROUP BY category_en_name\n",
    "limit 10 \n",
    "'''\n",
    "c.execute(query)\n",
    "rows = c.fetchall()\n",
    "rows"
   ]
  },
  {
   "cell_type": "markdown",
   "metadata": {},
   "source": [
    "🤔 list the top 10 locations english category names according to their count (remove the null and unknown categories)"
   ]
  },
  {
   "cell_type": "code",
   "execution_count": 55,
   "metadata": {},
   "outputs": [
    {
     "data": {
      "text/plain": [
       "[('Residences', 5004),\n",
       " ('Food & Drink', 2294),\n",
       " ('Fast-food restaurant', 2254),\n",
       " ('Bus Station', 1816),\n",
       " ('Buildings', 1763),\n",
       " ('Other', 1735),\n",
       " ('Door', 1340),\n",
       " ('Live Entertainment', 1212),\n",
       " ('Shanghai cuisine', 990),\n",
       " ('Company', 811)]"
      ]
     },
     "execution_count": 55,
     "metadata": {},
     "output_type": "execute_result"
    }
   ],
   "source": [
    "query = '''\n",
    "SELECT category_en_name,COUNT(*) as total\n",
    "FROM weibo_location\n",
    "WHERE category_en_name not in (\"NULL\",\"Unknown Classification\")\n",
    "GROUP BY category_name\n",
    "ORDER BY total DESC\n",
    "limit 10 \n",
    "'''\n",
    "c.execute(query)\n",
    "rows = c.fetchall()\n",
    "rows"
   ]
  },
  {
   "cell_type": "markdown",
   "metadata": {},
   "source": [
    "🤔 list the top 10 locations english per street ordered by count. If the count is the same, order by the (category, street) having the most total checking"
   ]
  },
  {
   "cell_type": "code",
   "execution_count": 74,
   "metadata": {},
   "outputs": [
    {
     "data": {
      "text/plain": [
       "[('Residences', '上海市泰兴路', 5004, 608375),\n",
       " ('Food & Drink', '上海市武夷路', 2294, 189053),\n",
       " ('Fast-food restaurant', '上海市剑河路', 2254, 258634),\n",
       " ('Bus Station', '上海市吴淞路', 1859, 302323),\n",
       " ('Buildings', '上海市海兴路', 1763, 393231),\n",
       " ('Other', '上海市富城路', 1735, 485094),\n",
       " ('Door', '上海市仙霞路', 1340, 58739),\n",
       " ('Live Entertainment', '上海市外马路', 1212, 124505),\n",
       " ('Shanghai cuisine', '上海市兴义路', 990, 145931),\n",
       " ('Company', '上海市陆家嘴环路', 811, 27079)]"
      ]
     },
     "execution_count": 74,
     "metadata": {},
     "output_type": "execute_result"
    }
   ],
   "source": [
    "query = '''\n",
    "SELECT category_en_name,street,COUNT(*) as total,SUM(total_checkin_count) as checkin\n",
    "FROM weibo_location\n",
    "WHERE category_en_name not in (\"NULL\",\"Unknown Classification\")\n",
    "GROUP BY category_en_name\n",
    "ORDER BY total DESC\n",
    "limit 10 \n",
    "'''\n",
    "c.execute(query)\n",
    "rows = c.fetchall()\n",
    "rows"
   ]
  },
  {
   "cell_type": "markdown",
   "metadata": {},
   "source": [
    "### query multiple tables\n",
    "🤔 select the top 10 location where people got birthday party"
   ]
  },
  {
   "cell_type": "code",
   "execution_count": 86,
   "metadata": {},
   "outputs": [
    {
     "data": {
      "text/plain": [
       "[('台北纯K Party', '上海市天山路', 12),\n",
       " ('唛歌时尚KTV(淮海中路店)', '上海市淮海中路', 11),\n",
       " ('银乐迪(虹口龙之梦店)', '上海市西江湾路', 10),\n",
       " ('Richy(复兴公园店)', '上海市重庆南路', 9),\n",
       " ('上海戏剧学院(莲花路校区)', '上海市莲花路', 9),\n",
       " ('MUSE', '上海市北京东路', 7),\n",
       " ('MUSE2', '上海市兴安路', 7),\n",
       " ('银乐迪', '上海市宜山路', 6),\n",
       " ('证大·大拇指广场', '上海市芳甸路', 6),\n",
       " ('大悦城', '上海市西藏北路', 6)]"
      ]
     },
     "execution_count": 86,
     "metadata": {},
     "output_type": "execute_result"
    }
   ],
   "source": [
    "query = '''\n",
    "SELECT \n",
    "    title,street,COUNT(*)as total\n",
    "FROM \n",
    "    weibo_status ws \n",
    "JOIN \n",
    "    weibo_location wl\n",
    "ON \n",
    "    ws.weibo_location_id = wl.weibo_location_id\n",
    "WHERE\n",
    "    status like '%happy birthday%' or\n",
    "    status like '%生日快乐%'\n",
    "GROUP BY \n",
    "    wl.weibo_location_id\n",
    "ORDER BY\n",
    "    total DESC\n",
    "LIMIT 10\n",
    "'''\n",
    "c.execute(query)\n",
    "rows = c.fetchall()\n",
    "rows"
   ]
  },
  {
   "cell_type": "markdown",
   "metadata": {},
   "source": [
    "🤔 select the top 10 favorite location where the top 500 most popular people"
   ]
  },
  {
   "cell_type": "code",
   "execution_count": 3,
   "metadata": {},
   "outputs": [
    {
     "data": {
      "text/plain": [
       "[('沪上一家辣肉面馆(成都北路店)', '上海市成都北路', 'Fast-food restaurant', 8),\n",
       " ('新天地', '上海市嵩山路', 'Other', 7),\n",
       " ('川杨新苑三期', '上海市孙环路', 'Residences', 7),\n",
       " ('幸福码头', '上海市中山南路', 'Residences', 7),\n",
       " ('上海明天广场JW万豪酒店', '上海市江阴路', 'Five-star hotel', 7),\n",
       " ('汇贤居(The Summit)', '上海市安福路', 'Residences', 5),\n",
       " ('镇坪路', '上海市镇坪路', 'Unknown Classification', 5),\n",
       " ('环球金融中心', '上海市东泰路', 'Unknown Classification', 5),\n",
       " ('张江科教园区', '上海市华佗路', 'Institutions of higher learning', 5),\n",
       " ('中国联通', '上海市文治路', 'Buildings', 5)]"
      ]
     },
     "execution_count": 3,
     "metadata": {},
     "output_type": "execute_result"
    }
   ],
   "source": [
    "query = '''\n",
    "SELECT \n",
    "    title,street,category_en_name,COUNT(*)as total\n",
    "FROM \n",
    "    weibo_status ws \n",
    "JOIN \n",
    "    weibo_location wl\n",
    "ON \n",
    "    ws.weibo_location_id = wl.weibo_location_id\n",
    "WHERE\n",
    "    ws.weibo_user_id in (\n",
    "        SELECT\n",
    "            weibo_user_id\n",
    "        FROM\n",
    "            weibo_user\n",
    "        ORDER BY\n",
    "            followers_count DESC\n",
    "        LIMIT 500\n",
    "    )\n",
    "GROUP BY \n",
    "    wl.weibo_location_id\n",
    "ORDER BY\n",
    "    total DESC\n",
    "LIMIT 10\n",
    "'''\n",
    "c.execute(query)\n",
    "rows = c.fetchall()\n",
    "rows"
   ]
  },
  {
   "cell_type": "markdown",
   "metadata": {},
   "source": [
    "🤔 THE FINAL QUERY\n",
    "1. select the top 50 favorite location where the 500 most popular woman go \n",
    "2. select the top 50 favorite location where the 500 most popular men go\n",
    "3. display the one they have in common and the one specific for each of these two genders orders by how many influencers go there"
   ]
  },
  {
   "cell_type": "markdown",
   "metadata": {},
   "source": [
    "1."
   ]
  },
  {
   "cell_type": "code",
   "execution_count": 18,
   "metadata": {},
   "outputs": [
    {
     "data": {
      "text/plain": [
       "[('凤城三村', '上海市江浦路', 'Residences', 13),\n",
       " ('康泰新城', '上海市华灵路', 'Unknown Classification', 13),\n",
       " ('新天地', '上海市嵩山路', 'Other', 9),\n",
       " ('幸福码头', '上海市中山南路', 'Residences', 7),\n",
       " ('万源城朗郡', '上海市古龙路', 'Residences', 6),\n",
       " ('汤臣高尔夫别墅', '上海市龙东大道', 'Residences', 6),\n",
       " ('七韵美地苑', '上海市吴中路', 'Unknown Classification', 6),\n",
       " ('MUSE2', '上海市兴安路', 'Bar', 6),\n",
       " ('汇贤居(The Summit)', '上海市安福路', 'Residences', 5),\n",
       " ('南宜花苑', '上海市凯旋路', 'Residences', 5)]"
      ]
     },
     "execution_count": 18,
     "metadata": {},
     "output_type": "execute_result"
    }
   ],
   "source": [
    "query = '''\n",
    "SELECT \n",
    "    title,street,category_en_name,COUNT(*)as total\n",
    "FROM \n",
    "    weibo_status ws \n",
    "JOIN \n",
    "    weibo_location wl\n",
    "ON \n",
    "    ws.weibo_location_id = wl.weibo_location_id\n",
    "WHERE\n",
    "    ws.weibo_user_id in (\n",
    "        SELECT\n",
    "            weibo_user_id\n",
    "        FROM\n",
    "            weibo_user\n",
    "        WHERE \n",
    "            gender='f'\n",
    "        ORDER BY\n",
    "            followers_count DESC\n",
    "        LIMIT 500\n",
    "    )\n",
    "GROUP BY \n",
    "    wl.weibo_location_id\n",
    "ORDER BY\n",
    "    total DESC\n",
    "LIMIT 10\n",
    "'''\n",
    "c.execute(query)\n",
    "rows = c.fetchall()\n",
    "rows"
   ]
  },
  {
   "cell_type": "markdown",
   "metadata": {},
   "source": [
    "2."
   ]
  },
  {
   "cell_type": "code",
   "execution_count": 48,
   "metadata": {},
   "outputs": [
    {
     "data": {
      "text/plain": [
       "[('上海财经大学中山北一路校区', '上海市新市路', 'Institutions of higher learning', 13),\n",
       " ('沪上一家辣肉面馆(成都北路店)', '上海市成都北路', 'Fast-food restaurant', 8),\n",
       " ('川杨新苑三期', '上海市孙环路', 'Residences', 7),\n",
       " ('张江科教园区', '上海市华佗路', 'Institutions of higher learning', 5),\n",
       " ('中远两湾城西区', '上海市光复西路', 'Unknown Classification', 4),\n",
       " ('和风造型私属Salon', '上海市上南路', 'Live Entertainment', 4),\n",
       " ('南新四村', '上海市下南路', 'Unknown Classification', 4),\n",
       " ('幸福路', '上海市幸福路', 'Other', 4),\n",
       " ('虹口体育馆', '上海市东体育会路', 'Food & Drink', 4),\n",
       " ('G-Star RAW旗舰店', '上海市成都北路', 'Shopping services', 4)]"
      ]
     },
     "execution_count": 48,
     "metadata": {},
     "output_type": "execute_result"
    }
   ],
   "source": [
    "query = '''\n",
    "SELECT \n",
    "    title,street,category_en_name,COUNT(*)as total\n",
    "FROM \n",
    "    weibo_status ws \n",
    "JOIN \n",
    "    weibo_location wl\n",
    "ON \n",
    "    ws.weibo_location_id = wl.weibo_location_id\n",
    "WHERE\n",
    "    ws.weibo_user_id in (\n",
    "        SELECT\n",
    "            weibo_user_id\n",
    "        FROM\n",
    "            weibo_user\n",
    "        WHERE \n",
    "            gender='m'\n",
    "        ORDER BY\n",
    "            followers_count DESC\n",
    "        LIMIT 500\n",
    "    )\n",
    "GROUP BY \n",
    "    wl.weibo_location_id\n",
    "ORDER BY\n",
    "    total DESC\n",
    "LIMIT 10\n",
    "'''\n",
    "c.execute(query)\n",
    "rows = c.fetchall()\n",
    "rows"
   ]
  },
  {
   "cell_type": "markdown",
   "metadata": {},
   "source": [
    "3."
   ]
  },
  {
   "cell_type": "code",
   "execution_count": 76,
   "metadata": {},
   "outputs": [],
   "source": [
    "query1 = '''\n",
    "SELECT \n",
    "    title,street,category_en_name\n",
    "FROM \n",
    "    weibo_status ws \n",
    "JOIN \n",
    "    weibo_location wl\n",
    "ON \n",
    "    ws.weibo_location_id = wl.weibo_location_id\n",
    "WHERE\n",
    "    ws.weibo_user_id in (\n",
    "        SELECT\n",
    "            weibo_user_id\n",
    "        FROM\n",
    "            weibo_user\n",
    "        WHERE \n",
    "            gender='m'\n",
    "        ORDER BY\n",
    "            followers_count DESC\n",
    "        LIMIT 500\n",
    "    )\n",
    "GROUP BY \n",
    "    wl.weibo_location_id\n",
    "LIMIT 10\n",
    "'''\n",
    "c.execute(query1)\n",
    "rows1 = c.fetchall()\n",
    "#print(rows1)\n",
    "query2 = '''\n",
    "SELECT \n",
    "    title,street,category_en_name\n",
    "FROM \n",
    "    weibo_status ws \n",
    "JOIN \n",
    "    weibo_location wl\n",
    "ON \n",
    "    ws.weibo_location_id = wl.weibo_location_id\n",
    "WHERE\n",
    "    ws.weibo_user_id in (\n",
    "        SELECT\n",
    "            weibo_user_id\n",
    "        FROM\n",
    "            weibo_user\n",
    "        WHERE \n",
    "            gender='f'\n",
    "        ORDER BY\n",
    "            followers_count DESC\n",
    "        LIMIT 500\n",
    "    )\n",
    "GROUP BY \n",
    "    wl.weibo_location_id\n",
    "LIMIT 10\n",
    "'''\n",
    "c.execute(query2)\n",
    "rows2 = c.fetchall()"
   ]
  },
  {
   "cell_type": "code",
   "execution_count": null,
   "metadata": {},
   "outputs": [],
   "source": [
    "rows1[:]"
   ]
  },
  {
   "cell_type": "code",
   "execution_count": 77,
   "metadata": {},
   "outputs": [
    {
     "name": "stdout",
     "output_type": "stream",
     "text": [
      "{('新旺茶餐厅 无限度广场店', '上海市淮海中路', 'Food & Drink'), ('星巴克(瑞金路店)', '上海市瑞金二路', 'Other'), ('万航渡路', '上海市万航渡路', 'Unknown Classification'), ('偶巴尔坛(吴中路店)', '上海市万源路', 'Korean cuisine'), ('唐宫(银河店)', '上海市中山西路', 'Cantonese cuisine'), ('上海文化广场', None, None), ('上海大学', '上海市广延路', 'Institutions of higher learning'), ('金逸国际电影城上海中环店', '上海市真北路', 'Cinema'), ('好乐迪量贩KTV', '上海市太仓路', 'KTV')}\n",
      "\n",
      "\n",
      "{('金茂大厦', '上海市海兴路', 'Buildings')}\n"
     ]
    }
   ],
   "source": [
    "setrow1=set(rows1)\n",
    "setrow2=set(rows2)\n",
    "# print(rows1[0])\n",
    "# print(setrow1)\n",
    "diff = setrow1.difference(setrow2)\n",
    "print(diff)\n",
    "comm = setrow1.intersection(setrow2)\n",
    "print(\"\\n\")\n",
    "print(comm)"
   ]
  }
 ],
 "metadata": {
  "kernelspec": {
   "display_name": "Python 3",
   "language": "python",
   "name": "python3"
  },
  "language_info": {
   "codemirror_mode": {
    "name": "ipython",
    "version": 3
   },
   "file_extension": ".py",
   "mimetype": "text/x-python",
   "name": "python",
   "nbconvert_exporter": "python",
   "pygments_lexer": "ipython3",
   "version": "3.7.10"
  }
 },
 "nbformat": 4,
 "nbformat_minor": 4
}
